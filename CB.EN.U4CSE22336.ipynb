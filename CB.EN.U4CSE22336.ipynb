{
 "cells": [
  {
   "cell_type": "markdown",
   "id": "643b0c6b-cbb2-42b2-8cb2-5c64ab9eb5bb",
   "metadata": {},
   "source": [
    "## NNDL"
   ]
  },
  {
   "cell_type": "markdown",
   "id": "c80c6049-05c3-4ec6-b31b-7803f334cb86",
   "metadata": {},
   "source": [
    "## CB.EN.U4CSE22336"
   ]
  },
  {
   "cell_type": "code",
   "execution_count": 1,
   "id": "47e0bcce-8ad7-4a97-9c43-db47062d8673",
   "metadata": {},
   "outputs": [],
   "source": [
    "import numpy as np\n"
   ]
  },
  {
   "cell_type": "code",
   "execution_count": 2,
   "id": "5f87d843-ee6b-4161-ac93-64ecf3c34652",
   "metadata": {},
   "outputs": [],
   "source": [
    "class Perceptron:\n",
    "    def __init__(self, input_size, lr=1, epochs=10):\n",
    "        self.weights = np.zeros(input_size + 1)  # +1 for bias\n",
    "        self.lr = lr\n",
    "        self.epochs = epochs\n",
    "\n",
    "    def activation_fn(self, x):\n",
    "        return 1 if x >= 0 else 0\n",
    "\n",
    "    def predict(self, x):\n",
    "        x = np.insert(x, 0, 1)  # Add bias input as 1\n",
    "        z = np.dot(self.weights, x)\n",
    "        return self.activation_fn(z)\n",
    "\n",
    "    def train(self, X, y):\n",
    "        for _ in range(self.epochs):\n",
    "            for i in range(len(X)):\n",
    "                x_i = np.insert(X[i], 0, 1)  # Add bias\n",
    "                y_hat = self.activation_fn(np.dot(self.weights, x_i))\n",
    "                error = y[i] - y_hat\n",
    "                self.weights += self.lr * error * x_i\n"
   ]
  },
  {
   "cell_type": "code",
   "execution_count": 3,
   "id": "d1d7fc34-283a-405e-9a81-2c9e7cf11e5e",
   "metadata": {},
   "outputs": [
    {
     "name": "stdout",
     "output_type": "stream",
     "text": [
      "OR Gate Results:\n",
      "[0 0] -> 0\n",
      "[0 1] -> 1\n",
      "[1 0] -> 1\n",
      "[1 1] -> 1\n"
     ]
    }
   ],
   "source": [
    "# OR Gate data\n",
    "X_or = np.array([[0, 0], [0, 1], [1, 0], [1, 1]])\n",
    "y_or = np.array([0, 1, 1, 1])\n",
    "\n",
    "p_or = Perceptron(input_size=2)\n",
    "p_or.train(X_or, y_or)\n",
    "\n",
    "print(\"OR Gate Results:\")\n",
    "for x in X_or:\n",
    "    print(f\"{x} -> {p_or.predict(x)}\")\n"
   ]
  },
  {
   "cell_type": "code",
   "execution_count": 4,
   "id": "1842f077-92b5-4762-95f2-30169d3f3370",
   "metadata": {},
   "outputs": [
    {
     "name": "stdout",
     "output_type": "stream",
     "text": [
      "AND Gate Results:\n",
      "[0 0] -> 0\n",
      "[0 1] -> 0\n",
      "[1 0] -> 0\n",
      "[1 1] -> 1\n"
     ]
    }
   ],
   "source": [
    "# AND Gate data\n",
    "X_and = np.array([[0, 0], [0, 1], [1, 0], [1, 1]])\n",
    "y_and = np.array([0, 0, 0, 1])\n",
    "\n",
    "p_and = Perceptron(input_size=2)\n",
    "p_and.train(X_and, y_and)\n",
    "\n",
    "print(\"AND Gate Results:\")\n",
    "for x in X_and:\n",
    "    print(f\"{x} -> {p_and.predict(x)}\")\n"
   ]
  },
  {
   "cell_type": "code",
   "execution_count": 5,
   "id": "dbb85461-4a7c-4d4c-8858-6a200451939e",
   "metadata": {},
   "outputs": [
    {
     "name": "stdout",
     "output_type": "stream",
     "text": [
      "XOR Gate Results (Incorrect as XOR is not linearly separable):\n",
      "[0 0] -> 1\n",
      "[0 1] -> 1\n",
      "[1 0] -> 0\n",
      "[1 1] -> 0\n"
     ]
    }
   ],
   "source": [
    "# XOR Gate data\n",
    "X_xor = np.array([[0, 0], [0, 1], [1, 0], [1, 1]])\n",
    "y_xor = np.array([0, 1, 1, 0])\n",
    "\n",
    "p_xor = Perceptron(input_size=2)\n",
    "p_xor.train(X_xor, y_xor)\n",
    "\n",
    "print(\"XOR Gate Results (Incorrect as XOR is not linearly separable):\")\n",
    "for x in X_xor:\n",
    "    print(f\"{x} -> {p_xor.predict(x)}\")\n",
    "\n"
   ]
  },
  {
   "cell_type": "code",
   "execution_count": null,
   "id": "6e0d34b9-3e89-4e47-8b82-8c6205f4dae8",
   "metadata": {},
   "outputs": [],
   "source": []
  }
 ],
 "metadata": {
  "kernelspec": {
   "display_name": "Python 3 (ipykernel)",
   "language": "python",
   "name": "python3"
  },
  "language_info": {
   "codemirror_mode": {
    "name": "ipython",
    "version": 3
   },
   "file_extension": ".py",
   "mimetype": "text/x-python",
   "name": "python",
   "nbconvert_exporter": "python",
   "pygments_lexer": "ipython3",
   "version": "3.11.7"
  }
 },
 "nbformat": 4,
 "nbformat_minor": 5
}
