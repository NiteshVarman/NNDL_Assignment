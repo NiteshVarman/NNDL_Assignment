{
  "nbformat": 4,
  "nbformat_minor": 0,
  "metadata": {
    "colab": {
      "provenance": []
    },
    "kernelspec": {
      "name": "python3",
      "display_name": "Python 3"
    },
    "language_info": {
      "name": "python"
    }
  },
  "cells": [
    {
      "cell_type": "code",
      "execution_count": 15,
      "metadata": {
        "colab": {
          "base_uri": "https://localhost:8080/"
        },
        "id": "HXPpi_YLT6cT",
        "outputId": "c4dc632d-473e-402b-f2ed-09faf2bd7bea"
      },
      "outputs": [
        {
          "output_type": "stream",
          "name": "stdout",
          "text": [
            "OR Gate:\n",
            "0 OR 0 = 0\n",
            "0 OR 1 = 1\n",
            "1 OR 0 = 1\n",
            "1 OR 1 = 1\n",
            "\n",
            "AND Gate:\n",
            "0 AND 0 = 0\n",
            "0 AND 1 = 0\n",
            "1 AND 0 = 0\n",
            "1 AND 1 = 1\n",
            "\n",
            "XOR Gate Results:\n",
            "0 XOR 0 = 0\n",
            "0 XOR 1 = 1\n",
            "1 XOR 0 = 1\n",
            "1 XOR 1 = 0\n"
          ]
        }
      ],
      "source": [
        "\n",
        "def step_fn(value):\n",
        "    if value>=1:\n",
        "      return 1\n",
        "    else :\n",
        "      return 0\n",
        "\n",
        "\n",
        "def or_gate(a, b):\n",
        "    w1, w2 = 20, 20\n",
        "    bias = -10\n",
        "    z = a * w1 + b * w2 + bias\n",
        "    return step_fn(z)\n",
        "\n",
        "print(\"OR Gate:\")\n",
        "for i in [0, 1]:\n",
        "    for j in [0, 1]:\n",
        "        print(f\"{i} OR {j} = {or_gate(i, j)}\")\n",
        "\n",
        "\n",
        "def and_gate(a, b):\n",
        "    w1, w2 = 20, 20\n",
        "    bias = -30\n",
        "    z = a * w1 + b * w2 + bias\n",
        "    return step_fn(z)\n",
        "\n",
        "print(\"\\nAND Gate:\")\n",
        "for i in [0, 1]:\n",
        "    for j in [0, 1]:\n",
        "        print(f\"{i} AND {j} = {and_gate(i, j)}\")\n",
        "\n",
        "#xor = (A OR B) AND NOT(A AND B)\n",
        "def xor_gate(a, b):\n",
        "    def nand_hidden(x, y):\n",
        "        w1, w2, b2 = -20, -20, 30\n",
        "        return step_fn(x * w1 + y * w2 + b2)\n",
        "\n",
        "    h1 = or_gate(a, b)\n",
        "    h2 = nand_hidden(a, b)\n",
        "\n",
        "    w1, w2, bias_out = 20, 20, -30\n",
        "    output = h1 * w1 + h2 * w2 + bias_out\n",
        "    return step_fn(output)\n",
        "\n",
        "print(\"\\nXOR Gate:\")\n",
        "for i in [0, 1]:\n",
        "    for j in [0, 1]:\n",
        "        print(f\"{i} XOR {j} = {xor_gate(i, j)}\")\n"
      ]
    },
    {
      "cell_type": "code",
      "source": [],
      "metadata": {
        "id": "5GMwMrpzUFDv"
      },
      "execution_count": null,
      "outputs": []
    }
  ]
}