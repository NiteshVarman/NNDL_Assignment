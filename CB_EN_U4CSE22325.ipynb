{
  "nbformat": 4,
  "nbformat_minor": 0,
  "metadata": {
    "colab": {
      "provenance": []
    },
    "kernelspec": {
      "name": "python3",
      "display_name": "Python 3"
    },
    "language_info": {
      "name": "python"
    }
  },
  "cells": [
    {
      "cell_type": "code",
      "source": [
        "import torch\n",
        "import torch.nn as nn\n",
        "import torch.optim as optim\n",
        "\n",
        "class MLP(nn.Module):\n",
        "    def __init__(self, hidden=4):\n",
        "        super().__init__()\n",
        "        self.fc1 = nn.Linear(2, hidden)\n",
        "        self.fc2 = nn.Linear(hidden, 1)\n",
        "    def forward(self, x):\n",
        "        x = torch.relu(self.fc1(x))\n",
        "        return self.fc2(x)  # logits (no sigmoid!)\n",
        "\n",
        "def train_gate(name, x, y, epochs=2000, lr=0.1, hidden=4, seed=0, device=None, verbose=False):\n",
        "    device = device or ('cuda' if torch.cuda.is_available() else 'cpu')\n",
        "    torch.manual_seed(seed)\n",
        "    x, y = x.to(device), y.to(device)\n",
        "\n",
        "    model = MLP(hidden=hidden).to(device)\n",
        "    loss_fn = nn.BCEWithLogitsLoss()\n",
        "    opt = optim.Adam(model.parameters(), lr=lr)\n",
        "\n",
        "    for ep in range(epochs):\n",
        "        opt.zero_grad()\n",
        "        logits = model(x)\n",
        "        loss = loss_fn(logits, y)\n",
        "        loss.backward()\n",
        "        opt.step()\n",
        "        if verbose and (ep + 1) % max(1, epochs // 10) == 0:\n",
        "            print(f\"[{name}] epoch {ep+1}/{epochs} loss={loss.item():.4f}\")\n",
        "\n",
        "    with torch.no_grad():\n",
        "        logits = model(x)\n",
        "        probs = torch.sigmoid(logits)\n",
        "        preds = (probs > 0.5).float()\n",
        "        acc = (preds == y).float().mean().item()\n",
        "        print(f\"\\n{name} GATE (acc={acc*100:.1f}%)\")\n",
        "        print(\"Input\\tProb\\tPred\\tActual\")\n",
        "        for i in range(len(x)):\n",
        "            print(f\"{x[i].tolist()}\\t{probs[i].item():.3f}\\t{int(preds[i].item())}\\t{int(y[i].item())}\")\n",
        "    return model\n",
        "\n",
        "# Input patterns (truth-table inputs)\n",
        "x_data = torch.tensor([\n",
        "    [0, 0],\n",
        "    [0, 1],\n",
        "    [1, 0],\n",
        "    [1, 1]\n",
        "], dtype=torch.float32)\n",
        "\n",
        "# Truth tables\n",
        "gates = {\n",
        "    \"AND\": torch.tensor([[0], [0], [0], [1]], dtype=torch.float32),\n",
        "    \"OR\":  torch.tensor([[0], [1], [1], [1]], dtype=torch.float32),\n",
        "    \"NOR\": torch.tensor([[1], [0], [0], [0]], dtype=torch.float32)\n",
        "}\n",
        "\n",
        "# Train & evaluate each\n",
        "models = {}\n",
        "for name, y in gates.items():\n",
        "    models[name] = train_gate(name, x_data, y, epochs=2000, lr=0.1)\n"
      ],
      "metadata": {
        "id": "fOA86vO2IPEi",
        "colab": {
          "base_uri": "https://localhost:8080/"
        },
        "outputId": "764ae69a-86c6-4e0a-82fa-58c99d295866"
      },
      "execution_count": 2,
      "outputs": [
        {
          "output_type": "stream",
          "name": "stdout",
          "text": [
            "\n",
            "AND GATE (acc=100.0%)\n",
            "Input\tProb\tPred\tActual\n",
            "[0.0, 0.0]\t0.000\t0\t0\n",
            "[0.0, 1.0]\t0.000\t0\t0\n",
            "[1.0, 0.0]\t0.000\t0\t0\n",
            "[1.0, 1.0]\t1.000\t1\t1\n",
            "\n",
            "OR GATE (acc=100.0%)\n",
            "Input\tProb\tPred\tActual\n",
            "[0.0, 0.0]\t0.000\t0\t0\n",
            "[0.0, 1.0]\t1.000\t1\t1\n",
            "[1.0, 0.0]\t1.000\t1\t1\n",
            "[1.0, 1.0]\t1.000\t1\t1\n",
            "\n",
            "NOR GATE (acc=100.0%)\n",
            "Input\tProb\tPred\tActual\n",
            "[0.0, 0.0]\t1.000\t1\t1\n",
            "[0.0, 1.0]\t0.000\t0\t0\n",
            "[1.0, 0.0]\t0.000\t0\t0\n",
            "[1.0, 1.0]\t0.000\t0\t0\n"
          ]
        }
      ]
    },
    {
      "cell_type": "code",
      "source": [],
      "metadata": {
        "id": "0vv3aHFmqTrq"
      },
      "execution_count": null,
      "outputs": []
    }
  ]
}