{
  "nbformat": 4,
  "nbformat_minor": 0,
  "metadata": {
    "colab": {
      "provenance": []
    },
    "kernelspec": {
      "name": "python3",
      "display_name": "Python 3"
    },
    "language_info": {
      "name": "python"
    }
  },
  "cells": [
    {
      "cell_type": "code",
      "execution_count": 1,
      "metadata": {
        "colab": {
          "base_uri": "https://localhost:8080/"
        },
        "id": "RLCzL_rQxpqL",
        "outputId": "27de40c4-6379-47b1-ab23-bd6a487e8fdf"
      },
      "outputs": [
        {
          "output_type": "stream",
          "name": "stdout",
          "text": [
            "=== Logic Gate Outputs ===\n",
            "AND Gate:\n",
            "tensor([[0.],\n",
            "        [0.],\n",
            "        [0.],\n",
            "        [1.]])\n",
            "\n",
            "OR Gate:\n",
            "tensor([[0.],\n",
            "        [1.],\n",
            "        [1.],\n",
            "        [1.]])\n",
            "\n",
            "XOR Gate:\n",
            "tensor([[0.],\n",
            "        [1.],\n",
            "        [1.],\n",
            "        [0.]])\n"
          ]
        }
      ],
      "source": [
        "import torch\n",
        "import torch.nn as nn\n",
        "import torch.optim as optim\n",
        "\n",
        "\n",
        "torch.manual_seed(42)\n",
        "\n",
        "\n",
        "class Perceptron(nn.Module):\n",
        "    def __init__(self):\n",
        "        super(Perceptron, self).__init__()\n",
        "        self.fc = nn.Linear(2, 1)  # 2 inputs → 1 output\n",
        "\n",
        "    def forward(self, x):\n",
        "        return torch.sigmoid(self.fc(x))\n",
        "\n",
        "\n",
        "class XORNet(nn.Module):\n",
        "    def __init__(self):\n",
        "        super(XORNet, self).__init__()\n",
        "        self.layer1 = nn.Linear(2, 2)\n",
        "        self.layer2 = nn.Linear(2, 1)\n",
        "\n",
        "    def forward(self, x):\n",
        "        x = torch.sigmoid(self.layer1(x))\n",
        "        x = torch.sigmoid(self.layer2(x))\n",
        "        return x\n",
        "\n",
        "\n",
        "\n",
        "def train_gate(model, inputs, targets, epochs=1000, lr=0.1):\n",
        "    criterion = nn.BCELoss()\n",
        "    optimizer = optim.SGD(model.parameters(), lr=lr)\n",
        "\n",
        "    for epoch in range(epochs):\n",
        "        optimizer.zero_grad()\n",
        "        outputs = model(inputs)\n",
        "        loss = criterion(outputs, targets)\n",
        "        loss.backward()\n",
        "        optimizer.step()\n",
        "\n",
        "\n",
        "\n",
        "X = torch.FloatTensor([\n",
        "    [0, 0],\n",
        "    [0, 1],\n",
        "    [1, 0],\n",
        "    [1, 1]\n",
        "])\n",
        "\n",
        "\n",
        "y_and = torch.FloatTensor([[0], [0], [0], [1]])\n",
        "y_or  = torch.FloatTensor([[0], [1], [1], [1]])\n",
        "y_xor = torch.FloatTensor([[0], [1], [1], [0]])\n",
        "\n",
        "\n",
        "model_and = Perceptron()\n",
        "train_gate(model_and, X, y_and, epochs=1000)\n",
        "out_and = torch.round(model_and(X).detach())\n",
        "\n",
        "\n",
        "model_or = Perceptron()\n",
        "train_gate(model_or, X, y_or, epochs=1000)\n",
        "out_or = torch.round(model_or(X).detach())\n",
        "\n",
        "\n",
        "model_xor = XORNet()\n",
        "train_gate(model_xor, X, y_xor, epochs=10000)\n",
        "out_xor = torch.round(model_xor(X).detach())\n",
        "\n",
        "\n",
        "print(\"=== Logic Gate Outputs ===\")\n",
        "print(\"AND Gate:\")\n",
        "print(out_and)\n",
        "\n",
        "print(\"\\nOR Gate:\")\n",
        "print(out_or)\n",
        "\n",
        "print(\"\\nXOR Gate:\")\n",
        "print(out_xor)\n"
      ]
    }
  ]
}