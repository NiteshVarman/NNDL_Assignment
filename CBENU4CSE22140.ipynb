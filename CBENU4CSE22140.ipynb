{
 "cells": [
  {
   "cell_type": "code",
   "execution_count": 7,
   "id": "fbb61882-4502-4522-845a-c0a2051a837c",
   "metadata": {},
   "outputs": [],
   "source": [
    "#Neeraj Nair\n",
    "#CB.EN.U4CSE22140"
   ]
  },
  {
   "cell_type": "code",
   "execution_count": 4,
   "id": "e1a26318-ede9-4d63-81a2-2b16975cf502",
   "metadata": {},
   "outputs": [
    {
     "name": "stdout",
     "output_type": "stream",
     "text": [
      "AND Gate:\n",
      "0 AND 0 = 0\n",
      "0 AND 1 = 0\n",
      "1 AND 0 = 0\n",
      "1 AND 1 = 1\n"
     ]
    }
   ],
   "source": [
    "def step(x):\n",
    "    return 1 if x >= 0 else 0\n",
    "\n",
    "def perceptronAnd(x1, x2):\n",
    "    w1, w2, bias = 1, 1, -1.5\n",
    "    y = w1 * x1 + w2 * x2 + bias\n",
    "    return step(y)\n",
    "\n",
    "print(\"AND Gate:\")\n",
    "for x1 in [0, 1]:\n",
    "    for x2 in [0, 1]:\n",
    "        print(f\"{x1} AND {x2} = {perceptronAnd(x1, x2)}\")\n"
   ]
  },
  {
   "cell_type": "code",
   "execution_count": 5,
   "id": "c50aa847-5712-4be9-ba43-a5c5e7c6c4f1",
   "metadata": {},
   "outputs": [
    {
     "name": "stdout",
     "output_type": "stream",
     "text": [
      "\n",
      "OR Gate:\n",
      "0 OR 0 = 0\n",
      "0 OR 1 = 1\n",
      "1 OR 0 = 1\n",
      "1 OR 1 = 1\n"
     ]
    }
   ],
   "source": [
    "def step(x):\n",
    "    return 1 if x >= 0 else 0\n",
    "\n",
    "def perceptronOr(x1, x2):\n",
    "    w1, w2, bias = 1, 1, -0.5\n",
    "    y = w1 * x1 + w2 * x2 + bias\n",
    "    return step(y)\n",
    "\n",
    "print(\"\\nOR Gate:\")\n",
    "for x1 in [0, 1]:\n",
    "    for x2 in [0, 1]:\n",
    "        print(f\"{x1} OR {x2} = {perceptronOr(x1, x2)}\")\n"
   ]
  },
  {
   "cell_type": "code",
   "execution_count": 6,
   "id": "318ae13f-e125-4d9a-bfaa-b6f9febd39d6",
   "metadata": {},
   "outputs": [
    {
     "name": "stdout",
     "output_type": "stream",
     "text": [
      "\n",
      "XOR Gate:\n",
      "0 XOR 0 = 0\n",
      "0 XOR 1 = 1\n",
      "1 XOR 0 = 1\n",
      "1 XOR 1 = 0\n"
     ]
    }
   ],
   "source": [
    "def step(x):\n",
    "    return 1 if x >= 0 else 0\n",
    "\n",
    "def hideOr(x1, x2):\n",
    "    w1, w2, bias = 1, 1, -0.5\n",
    "    y = w1 * x1 + w2 * x2 + bias\n",
    "    return step(y)\n",
    "\n",
    "def hideNand(x1, x2):\n",
    "    w1, w2, bias = -2, -2, 3\n",
    "    y = w1 * x1 + w2 * x2 + bias\n",
    "    return step(y)\n",
    "\n",
    "def perceptronXor(x1, x2):\n",
    "    h1 = hideOr(x1, x2)\n",
    "    h2 = hideNand(x1, x2)\n",
    "    w1, w2, bias = 1, 1, -1.5\n",
    "    y = w1 * h1 + w2 * h2 + bias\n",
    "    return step(y)\n",
    "\n",
    "print(\"\\nXOR Gate:\")\n",
    "for x1 in [0, 1]:\n",
    "    for x2 in [0, 1]:\n",
    "        print(f\"{x1} XOR {x2} = {perceptronXor(x1, x2)}\")\n"
   ]
  }
 ],
 "metadata": {
  "kernelspec": {
   "display_name": "Python 3 (ipykernel)",
   "language": "python",
   "name": "python3"
  },
  "language_info": {
   "codemirror_mode": {
    "name": "ipython",
    "version": 3
   },
   "file_extension": ".py",
   "mimetype": "text/x-python",
   "name": "python",
   "nbconvert_exporter": "python",
   "pygments_lexer": "ipython3",
   "version": "3.13.3"
  }
 },
 "nbformat": 4,
 "nbformat_minor": 5
}
