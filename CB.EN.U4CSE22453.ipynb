{
 "cells": [
  {
   "cell_type": "code",
   "execution_count": 1,
   "id": "d496f78b-a3fa-4d45-9712-ed42965767d2",
   "metadata": {},
   "outputs": [],
   "source": [
    "import numpy as np"
   ]
  },
  {
   "cell_type": "code",
   "execution_count": 2,
   "id": "e426f047-928d-4807-a50c-8dcefbdfbe13",
   "metadata": {},
   "outputs": [
    {
     "name": "stdout",
     "output_type": "stream",
     "text": [
      "AND Gate\n",
      "(0, 0)->0\n",
      "(0, 1)->0\n",
      "(1, 0)->0\n",
      "(1, 1)->1\n"
     ]
    }
   ],
   "source": [
    "def perceptron(w,x,b):\n",
    "    z=np.dot(x,w)+b\n",
    "    return 1 if z>0 else 0\n",
    "\n",
    "print(\"AND Gate\")\n",
    "w_and=np.array([1,1])\n",
    "b_and=-1.5\n",
    "inputs=[(0,0),(0,1),(1,0),(1,1)]\n",
    "for i in inputs:\n",
    "    output=perceptron(np.array(i),w_and,b_and)\n",
    "    print(f\"{i}->{output}\")"
   ]
  },
  {
   "cell_type": "code",
   "execution_count": 3,
   "id": "4d4d2736-c9ea-4e1b-b324-f43a79cf274c",
   "metadata": {},
   "outputs": [
    {
     "name": "stdout",
     "output_type": "stream",
     "text": [
      "OR Gate\n",
      "(0, 0)->0\n",
      "(0, 1)->1\n",
      "(1, 0)->1\n",
      "(1, 1)->1\n"
     ]
    }
   ],
   "source": [
    "print(\"OR Gate\")\n",
    "w_or=np.array([1,1])\n",
    "b_or=-0.5\n",
    "inputs=[(0,0),(0,1),(1,0),(1,1)]\n",
    "for i in inputs:\n",
    "    output=perceptron(np.array(i),w_or,b_or)\n",
    "    print(f\"{i}->{output}\")"
   ]
  },
  {
   "cell_type": "code",
   "execution_count": 4,
   "id": "74b0ca7f-243e-465d-8258-6f1507a60e44",
   "metadata": {},
   "outputs": [
    {
     "name": "stdout",
     "output_type": "stream",
     "text": [
      "XOR GATE\n",
      "(0, 0)->0\n",
      "(0, 1)->1\n",
      "(1, 0)->1\n",
      "(1, 1)->0\n"
     ]
    }
   ],
   "source": [
    "def perceptron(x,w,b):\n",
    "    z=np.dot(x,w)+b\n",
    "    return 1 if z > 0 else 0\n",
    "\n",
    "def xor(x):\n",
    "    h1=perceptron(x,np.array([1,-1]),0)\n",
    "    h2=perceptron(x,np.array([-1,1]),0)    \n",
    "    out=perceptron(np.array([h1, h2]),np.array([1,1]),-0.5)  \n",
    "    return out\n",
    "    \n",
    "print(\"XOR GATE\")\n",
    "inputs=[(0,0),(0,1),(1,0),(1,1)]\n",
    "for i in inputs:\n",
    "    ot=xor(np.array(i))\n",
    "    print(f\"{i}->{ot}\")"
   ]
  },
  {
   "cell_type": "code",
   "execution_count": null,
   "id": "e29f86bb-be63-4bfc-90f3-2d9312188fc4",
   "metadata": {},
   "outputs": [],
   "source": []
  },
  {
   "cell_type": "code",
   "execution_count": null,
   "id": "6957620b-fece-4923-bd62-fc52176e4c3d",
   "metadata": {},
   "outputs": [],
   "source": []
  }
 ],
 "metadata": {
  "kernelspec": {
   "display_name": "Python 3 (ipykernel)",
   "language": "python",
   "name": "python3"
  },
  "language_info": {
   "codemirror_mode": {
    "name": "ipython",
    "version": 3
   },
   "file_extension": ".py",
   "mimetype": "text/x-python",
   "name": "python",
   "nbconvert_exporter": "python",
   "pygments_lexer": "ipython3",
   "version": "3.12.4"
  }
 },
 "nbformat": 4,
 "nbformat_minor": 5
}
