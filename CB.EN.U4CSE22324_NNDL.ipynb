{
 "cells": [
  {
   "cell_type": "code",
   "execution_count": 2,
   "id": "86d46513-f6da-4759-9944-88a72af30a06",
   "metadata": {},
   "outputs": [],
   "source": [
    "import torch\n",
    "import torch.nn as nn\n",
    "import torch.optim as optim\n",
    "\n"
   ]
  },
  {
   "cell_type": "code",
   "execution_count": 3,
   "id": "199b1ed8-5194-4877-9566-a97473fdbd3c",
   "metadata": {},
   "outputs": [
    {
     "name": "stdout",
     "output_type": "stream",
     "text": [
      "\n",
      "AND GATE (acc=100.0%)\n",
      "Input\tProb\tPred\tActual\n",
      "[0.0, 0.0]\t0.000\t0\t0\n",
      "[0.0, 1.0]\t0.000\t0\t0\n",
      "[1.0, 0.0]\t0.000\t0\t0\n",
      "[1.0, 1.0]\t1.000\t1\t1\n",
      "\n",
      "OR GATE (acc=100.0%)\n",
      "Input\tProb\tPred\tActual\n",
      "[0.0, 0.0]\t0.000\t0\t0\n",
      "[0.0, 1.0]\t1.000\t1\t1\n",
      "[1.0, 0.0]\t1.000\t1\t1\n",
      "[1.0, 1.0]\t1.000\t1\t1\n",
      "\n",
      "NOR GATE (acc=100.0%)\n",
      "Input\tProb\tPred\tActual\n",
      "[0.0, 0.0]\t1.000\t1\t1\n",
      "[0.0, 1.0]\t0.000\t0\t0\n",
      "[1.0, 0.0]\t0.000\t0\t0\n",
      "[1.0, 1.0]\t0.000\t0\t0\n"
     ]
    }
   ],
   "source": [
    "class MLP(nn.Module):\n",
    "    def __init__(self, hidden=4):\n",
    "        super().__init__()\n",
    "        self.fc1 = nn.Linear(2, hidden)\n",
    "        self.fc2 = nn.Linear(hidden, 1)\n",
    "    def forward(self, x):\n",
    "        x = torch.relu(self.fc1(x))\n",
    "        return self.fc2(x)  # logits (no sigmoid!)\n",
    "\n",
    "def train_gate(name, x, y, epochs=2000, lr=0.1, hidden=4, seed=0, device=None, verbose=False):\n",
    "    device = device or ('cuda' if torch.cuda.is_available() else 'cpu')\n",
    "    torch.manual_seed(seed)\n",
    "    x, y = x.to(device), y.to(device)\n",
    "\n",
    "    model = MLP(hidden=hidden).to(device)\n",
    "    loss_fn = nn.BCEWithLogitsLoss()\n",
    "    opt = optim.Adam(model.parameters(), lr=lr)\n",
    "\n",
    "    for ep in range(epochs):\n",
    "        opt.zero_grad()\n",
    "        logits = model(x)\n",
    "        loss = loss_fn(logits, y)\n",
    "        loss.backward()\n",
    "        opt.step()\n",
    "        if verbose and (ep + 1) % max(1, epochs // 10) == 0:\n",
    "            print(f\"[{name}] epoch {ep+1}/{epochs} loss={loss.item():.4f}\")\n",
    "\n",
    "    with torch.no_grad():\n",
    "        logits = model(x)\n",
    "        probs = torch.sigmoid(logits)\n",
    "        preds = (probs > 0.5).float()\n",
    "        acc = (preds == y).float().mean().item()\n",
    "        print(f\"\\n{name} GATE (acc={acc*100:.1f}%)\")\n",
    "        print(\"Input\\tProb\\tPred\\tActual\")\n",
    "        for i in range(len(x)):\n",
    "            print(f\"{x[i].tolist()}\\t{probs[i].item():.3f}\\t{int(preds[i].item())}\\t{int(y[i].item())}\")\n",
    "    return model\n",
    "\n",
    "# Input patterns (truth-table inputs)\n",
    "x_data = torch.tensor([\n",
    "    [0, 0],\n",
    "    [0, 1],\n",
    "    [1, 0],\n",
    "    [1, 1]\n",
    "], dtype=torch.float32)\n",
    "\n",
    "# Truth tables\n",
    "gates = {\n",
    "    \"AND\": torch.tensor([[0], [0], [0], [1]], dtype=torch.float32),\n",
    "    \"OR\":  torch.tensor([[0], [1], [1], [1]], dtype=torch.float32),\n",
    "    \"NOR\": torch.tensor([[1], [0], [0], [0]], dtype=torch.float32)\n",
    "}\n",
    "\n",
    "# Train & evaluate each\n",
    "models = {}\n",
    "for name, y in gates.items():\n",
    "    models[name] = train_gate(name, x_data, y, epochs=2000, lr=0.1)"
   ]
  },
  {
   "cell_type": "code",
   "execution_count": null,
   "id": "647b30ad-52c5-4ace-b3f2-6faac58f73a4",
   "metadata": {},
   "outputs": [],
   "source": []
  }
 ],
 "metadata": {
  "kernelspec": {
   "display_name": "Python 3 (ipykernel)",
   "language": "python",
   "name": "python3"
  },
  "language_info": {
   "codemirror_mode": {
    "name": "ipython",
    "version": 3
   },
   "file_extension": ".py",
   "mimetype": "text/x-python",
   "name": "python",
   "nbconvert_exporter": "python",
   "pygments_lexer": "ipython3",
   "version": "3.11.5"
  }
 },
 "nbformat": 4,
 "nbformat_minor": 5
}
