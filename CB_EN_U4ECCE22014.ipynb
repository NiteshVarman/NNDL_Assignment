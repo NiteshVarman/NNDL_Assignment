{
  "nbformat": 4,
  "nbformat_minor": 0,
  "metadata": {
    "colab": {
      "provenance": []
    },
    "kernelspec": {
      "name": "python3",
      "display_name": "Python 3"
    },
    "language_info": {
      "name": "python"
    }
  },
  "cells": [
    {
      "cell_type": "code",
      "source": [
        "def step_activation(x):\n",
        "    return 1 if x >= 0 else 0\n",
        "\n",
        "# Define explain_gate to display results\n",
        "def explain_gate(gate_name, x1, x2, output):\n",
        "    if x2 is not None:\n",
        "        print(f\"{gate_name}({x1}, {x2}) = {output}\")\n",
        "    else:\n",
        "        print(f\"{gate_name}({x1}) = {output}\")\n",
        "\n",
        "# Perceptron for OR gate\n",
        "def perceptron_or(x1, x2):\n",
        "    weights = [1, 1]\n",
        "    bias = -0.5\n",
        "    weighted_sum = x1 * weights[0] + x2 * weights[1] + bias\n",
        "    return step_activation(weighted_sum)\n",
        "\n",
        "# Perceptron for AND gate\n",
        "def perceptron_and(x1, x2):\n",
        "    weights = [1, 1]\n",
        "    bias = -1.5\n",
        "    weighted_sum = x1 * weights[0] + x2 * weights[1] + bias\n",
        "    return step_activation(weighted_sum)\n",
        "\n",
        "# Perceptron for NAND gate\n",
        "def perceptron_nand(x1, x2):\n",
        "    weights = [-2, -2]\n",
        "    bias = 3\n",
        "    weighted_sum = x1 * weights[0] + x2 * weights[1] + bias\n",
        "    return step_activation(weighted_sum)\n",
        "\n",
        "# Perceptron for NOT gate (single input)\n",
        "def perceptron_not(x):\n",
        "    weight = -1\n",
        "    bias = 0.5\n",
        "    weighted_sum = x * weight + bias\n",
        "    return step_activation(weighted_sum)\n",
        "\n",
        "# XOR using combination of gates (OR and NAND fed into AND)\n",
        "def perceptron_xor(x1, x2):\n",
        "    or_output = perceptron_or(x1, x2)\n",
        "    nand_output = perceptron_nand(x1, x2)\n",
        "    # AND of OR and NAND\n",
        "    weights = [1, 1]\n",
        "    bias = -1.5\n",
        "    weighted_sum = or_output * weights[0] + nand_output * weights[1] + bias\n",
        "    return step_activation(weighted_sum)\n",
        "\n",
        "# Display outputs\n",
        "print(\"\\nGATE OUTPUTS\")\n",
        "for x1 in [0, 1]:\n",
        "    for x2 in [0, 1]:\n",
        "        explain_gate(\"AND\", x1, x2, perceptron_and(x1, x2))\n",
        "        explain_gate(\"OR\", x1, x2, perceptron_or(x1, x2))\n",
        "        explain_gate(\"NAND\", x1, x2, perceptron_nand(x1, x2))\n",
        "        explain_gate(\"XOR\", x1, x2, perceptron_xor(x1, x2))\n",
        "\n",
        "for x in [0, 1]:\n",
        "    explain_gate(\"NOT\", x, None, perceptron_not(x))\n"
      ],
      "metadata": {
        "colab": {
          "base_uri": "https://localhost:8080/"
        },
        "id": "E61TXaxWkjSy",
        "outputId": "ba6f7e60-cb0b-4945-858d-3174aa379981"
      },
      "execution_count": 7,
      "outputs": [
        {
          "output_type": "stream",
          "name": "stdout",
          "text": [
            "\n",
            "GATE OUTPUTS\n",
            "AND(0, 0) = 0\n",
            "OR(0, 0) = 0\n",
            "NAND(0, 0) = 1\n",
            "XOR(0, 0) = 0\n",
            "AND(0, 1) = 0\n",
            "OR(0, 1) = 1\n",
            "NAND(0, 1) = 1\n",
            "XOR(0, 1) = 1\n",
            "AND(1, 0) = 0\n",
            "OR(1, 0) = 1\n",
            "NAND(1, 0) = 1\n",
            "XOR(1, 0) = 1\n",
            "AND(1, 1) = 1\n",
            "OR(1, 1) = 1\n",
            "NAND(1, 1) = 0\n",
            "XOR(1, 1) = 0\n",
            "NOT(0) = 1\n",
            "NOT(1) = 0\n"
          ]
        }
      ]
    }
  ]
}