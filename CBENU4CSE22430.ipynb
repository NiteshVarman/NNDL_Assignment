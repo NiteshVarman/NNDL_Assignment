{
  "cells": [
    {
      "cell_type": "code",
      "execution_count": null,
      "metadata": {
        "colab": {
          "base_uri": "https://localhost:8080/"
        },
        "id": "HmSjou7BkVVe",
        "outputId": "bc9a3bc3-d336-46cd-e341-938e0fdff5e1"
      },
      "outputs": [
        {
          "name": "stdout",
          "output_type": "stream",
          "text": [
            "Choose gate: AND / OR / XOR\n",
            "Enter gate type: AND\n",
            "\n",
            "Truth Table for AND Gate:\n",
            "-------------------------\n",
            " A | B | Output\n",
            "-------------------------\n",
            " 0 | 0 |   0\n",
            " 0 | 1 |   0\n",
            " 1 | 0 |   0\n",
            " 1 | 1 |   1\n",
            "-------------------------\n",
            "Enter gate type: OR\n",
            "\n",
            "Truth Table for OR Gate:\n",
            "-------------------------\n",
            " A | B | Output\n",
            "-------------------------\n",
            " 0 | 0 |   0\n",
            " 0 | 1 |   1\n",
            " 1 | 0 |   1\n",
            " 1 | 1 |   1\n",
            "-------------------------\n",
            "Enter gate type: XOR\n",
            "Note: XOR cannot be learned using a single-layer perceptron.\n",
            "Still attempting training for demonstration.\n",
            "\n",
            "Truth Table for XOR Gate:\n",
            "-------------------------\n",
            " A | B | Output\n",
            "-------------------------\n",
            " 0 | 0 |   1\n",
            " 0 | 1 |   1\n",
            " 1 | 0 |   0\n",
            " 1 | 1 |   0\n",
            "-------------------------\n"
          ]
        }
      ],
      "source": [
        "def step_function(x):\n",
        "    return 1 if x >= 0 else 0\n",
        "\n",
        "class Perceptron:\n",
        "    def __init__(self, learning_rate=0.1):\n",
        "        self.w1 = 0.0\n",
        "        self.w2 = 0.0\n",
        "        self.b = 0.0\n",
        "        self.lr = learning_rate\n",
        "\n",
        "    def predict(self, x1, x2):\n",
        "        z = self.w1 * x1 + self.w2 * x2 + self.b\n",
        "        return step_function(z)\n",
        "\n",
        "    def train(self, inputs, outputs, epochs=10):\n",
        "        for _ in range(epochs):\n",
        "            for (x1, x2), y in zip(inputs, outputs):\n",
        "                y_pred = self.predict(x1, x2)\n",
        "                error = y - y_pred\n",
        "                self.w1 += self.lr * error * x1\n",
        "                self.w2 += self.lr * error * x2\n",
        "                self.b += self.lr * error\n",
        "\n",
        "def gate_demo(gate_type):\n",
        "    p = Perceptron()\n",
        "    inputs = [(0, 0), (0, 1), (1, 0), (1, 1)]\n",
        "\n",
        "    if gate_type == \"AND\":\n",
        "        outputs = [0, 0, 0, 1]\n",
        "    elif gate_type == \"OR\":\n",
        "        outputs = [0, 1, 1, 1]\n",
        "    elif gate_type == \"XOR\":\n",
        "        print(\"Note: XOR cannot be learned using a single-layer perceptron.\\nStill attempting training for demonstration.\")\n",
        "        outputs = [0, 1, 1, 0]\n",
        "    else:\n",
        "        print(\"Invalid gate type.\")\n",
        "        return\n",
        "\n",
        "\n",
        "    p.train(inputs, outputs)\n",
        "\n",
        "    \n",
        "    print(f\"\\nTruth Table for {gate_type} Gate:\")\n",
        "    print(\"-------------------------\")\n",
        "    print(\" A | B | Output\")\n",
        "    print(\"-------------------------\")\n",
        "    for x1, x2 in inputs:\n",
        "        result = p.predict(x1, x2)\n",
        "        print(f\" {x1} | {x2} |   {result}\")\n",
        "    print(\"-------------------------\")\n",
        "\n",
        "\n",
        "print(\"Choose gate: AND / OR / XOR\")\n",
        "for i in range(3):\n",
        "  gate = input(\"Enter gate type: \").strip().upper()\n",
        "  gate_demo(gate)\n"
      ]
    },
    {
      "cell_type": "code",
      "execution_count": null,
      "metadata": {
        "id": "ypKdVEdUkWMA"
      },
      "outputs": [],
      "source": []
    }
  ],
  "metadata": {
    "colab": {
      "provenance": []
    },
    "kernelspec": {
      "display_name": "Python 3",
      "name": "python3"
    },
    "language_info": {
      "name": "python"
    }
  },
  "nbformat": 4,
  "nbformat_minor": 0
}
