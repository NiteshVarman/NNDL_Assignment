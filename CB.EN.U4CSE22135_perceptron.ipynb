{
 "cells": [
  {
   "cell_type": "code",
   "execution_count": 3,
   "id": "2ce3c0b3-1744-4434-b177-9413939af39c",
   "metadata": {},
   "outputs": [
    {
     "name": "stdout",
     "output_type": "stream",
     "text": [
      "Logic Gate: AND\n",
      "0 ∧ 0 → 0\n",
      "0 ∧ 1 → 0\n",
      "1 ∧ 0 → 0\n",
      "1 ∧ 1 → 1\n",
      "\n",
      "Logic Gate: OR\n",
      "0 ∨ 0 → 0\n",
      "0 ∨ 1 → 1\n",
      "1 ∨ 0 → 1\n",
      "1 ∨ 1 → 1\n",
      "\n",
      "Logic Gate: XOR\n",
      "0 ⊕ 0 → 0\n",
      "0 ⊕ 1 → 1\n",
      "1 ⊕ 0 → 1\n",
      "1 ⊕ 1 → 0\n"
     ]
    }
   ],
   "source": [
    "def activate(val):\n",
    "    if val >= 0:\n",
    "        return 1\n",
    "    return 0\n",
    "\n",
    "def logic_and(a, b):\n",
    "    wt1, wt2 = 1, 1\n",
    "    bias = -1.5\n",
    "    output = (a * wt1) + (b * wt2) + bias\n",
    "    return activate(output)\n",
    "\n",
    "print(\"Logic Gate: AND\")\n",
    "for i in range(2):\n",
    "    for j in range(2):\n",
    "        res = logic_and(i, j)\n",
    "        print(f\"{i} ∧ {j} → {res}\")\n",
    "\n",
    "def logic_or(a, b):\n",
    "    wt1, wt2 = 1, 1\n",
    "    bias = -0.5\n",
    "    total = (a * wt1) + (b * wt2) + bias\n",
    "    return activate(total)\n",
    "\n",
    "print(\"\\nLogic Gate: OR\")\n",
    "for i in range(2):\n",
    "    for j in range(2):\n",
    "        result = logic_or(i, j)\n",
    "        print(f\"{i} ∨ {j} → {result}\")\n",
    "\n",
    "def hidden_or(a, b):\n",
    "    return activate(a + b - 0.5)\n",
    "\n",
    "def hidden_nand(a, b):\n",
    "    return activate(-2 * a + -2 * b + 3)\n",
    "\n",
    "def logic_xor(a, b):\n",
    "    h_out1 = hidden_or(a, b)\n",
    "    h_out2 = hidden_nand(a, b)\n",
    "    final_sum = (h_out1 + h_out2 - 1.5)\n",
    "    return activate(final_sum)\n",
    "\n",
    "print(\"\\nLogic Gate: XOR\")\n",
    "for i in range(2):\n",
    "    for j in range(2):\n",
    "        answer = logic_xor(i, j)\n",
    "        print(f\"{i} ⊕ {j} → {answer}\")\n"
   ]
  },
  {
   "cell_type": "code",
   "execution_count": null,
   "id": "e9ae5acc-7ec8-4ff0-a4f2-331a8df3309b",
   "metadata": {},
   "outputs": [],
   "source": []
  }
 ],
 "metadata": {
  "kernelspec": {
   "display_name": "Python 3 (ipykernel)",
   "language": "python",
   "name": "python3"
  },
  "language_info": {
   "codemirror_mode": {
    "name": "ipython",
    "version": 3
   },
   "file_extension": ".py",
   "mimetype": "text/x-python",
   "name": "python",
   "nbconvert_exporter": "python",
   "pygments_lexer": "ipython3",
   "version": "3.12.4"
  }
 },
 "nbformat": 4,
 "nbformat_minor": 5
}
