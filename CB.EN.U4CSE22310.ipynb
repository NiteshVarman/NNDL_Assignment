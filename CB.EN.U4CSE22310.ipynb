{
 "cells": [
  {
   "cell_type": "code",
   "execution_count": 3,
   "id": "cd36c8f3",
   "metadata": {},
   "outputs": [],
   "source": [
    "def step_activation(x):\n",
    "    return 1 if x >= 0 else 0"
   ]
  },
  {
   "cell_type": "code",
   "execution_count": 4,
   "id": "ed890050",
   "metadata": {},
   "outputs": [
    {
     "name": "stdout",
     "output_type": "stream",
     "text": [
      "Perceptron OR Gate Outputs:\n",
      "Input: (0, 0) => Output: 0\n",
      "Input: (0, 1) => Output: 1\n",
      "Input: (1, 0) => Output: 1\n",
      "Input: (1, 1) => Output: 1\n"
     ]
    }
   ],
   "source": [
    "\n",
    "def perceptron_or(x1, x2):\n",
    "    weights = [1, 1]\n",
    "    bias = -0.5\n",
    "    weighted_sum = x1 * weights[0] + x2 * weights[1] + bias\n",
    "    return step_activation(weighted_sum)\n",
    "\n",
    "print(\"Perceptron OR Gate Outputs:\")\n",
    "for x1 in [0, 1]:\n",
    "    for x2 in [0, 1]:\n",
    "        output = perceptron_or(x1, x2)\n",
    "        print(f\"Input: ({x1}, {x2}) => Output: {output}\")"
   ]
  },
  {
   "cell_type": "code",
   "execution_count": 5,
   "id": "6ea25102",
   "metadata": {},
   "outputs": [
    {
     "name": "stdout",
     "output_type": "stream",
     "text": [
      "Perceptron AND Gate Outputs:\n",
      "Input: (0, 0) => Output: 0\n",
      "Input: (0, 1) => Output: 0\n",
      "Input: (1, 0) => Output: 0\n",
      "Input: (1, 1) => Output: 1\n"
     ]
    }
   ],
   "source": [
    "def perceptron_and(x1, x2):\n",
    "    weights = [1, 1]\n",
    "    bias = -1.5\n",
    "    weighted_sum = x1 * weights[0] + x2 * weights[1] + bias\n",
    "    return step_activation(weighted_sum)\n",
    "\n",
    "print(\"Perceptron AND Gate Outputs:\")\n",
    "for x1 in [0, 1]:   \n",
    "    for x2 in [0, 1]:\n",
    "        output = perceptron_and(x1, x2)\n",
    "        print(f\"Input: ({x1}, {x2}) => Output: {output}\")"
   ]
  },
  {
   "cell_type": "code",
   "execution_count": 7,
   "id": "c4500a44",
   "metadata": {},
   "outputs": [],
   "source": [
    "def perceptron_nand(x1, x2):\n",
    "    weights = [-2, -2]\n",
    "    bias = 3\n",
    "    weighted_sum = x1 * weights[0] + x2 * weights[1] + bias\n",
    "    return step_activation(weighted_sum)"
   ]
  },
  {
   "cell_type": "code",
   "execution_count": 8,
   "id": "3ba99d29",
   "metadata": {},
   "outputs": [
    {
     "name": "stdout",
     "output_type": "stream",
     "text": [
      "Perceptron XOR Gate Outputs:\n",
      "Input: (0, 0) => Output: 0\n",
      "Input: (0, 1) => Output: 1\n",
      "Input: (1, 0) => Output: 1\n",
      "Input: (1, 1) => Output: 0\n"
     ]
    }
   ],
   "source": [
    "def hidden_or(x1, x2):\n",
    "    return perceptron_or(x1, x2)\n",
    "\n",
    "def hidden_nand(x1, x2):\n",
    "    return perceptron_nand(x1, x2)\n",
    "\n",
    "def perceptron_xor(x1, x2):\n",
    "    or_output = hidden_or(x1, x2)\n",
    "    and_output = hidden_nand(x1, x2)\n",
    "    \n",
    "    weights = [1, 1]\n",
    "    bias = -1.5\n",
    "    weighted_sum = or_output * weights[0] + and_output * weights[1] + bias\n",
    "    return step_activation(weighted_sum)\n",
    "\n",
    "print(\"Perceptron XOR Gate Outputs:\")\n",
    "for x1 in [0, 1]:      \n",
    "    for x2 in [0, 1]:\n",
    "        output = perceptron_xor(x1, x2)\n",
    "        print(f\"Input: ({x1}, {x2}) => Output: {output}\")"
   ]
  },
  {
   "cell_type": "code",
   "execution_count": null,
   "id": "19751bb7",
   "metadata": {},
   "outputs": [],
   "source": []
  }
 ],
 "metadata": {
  "kernelspec": {
   "display_name": "base",
   "language": "python",
   "name": "python3"
  },
  "language_info": {
   "codemirror_mode": {
    "name": "ipython",
    "version": 3
   },
   "file_extension": ".py",
   "mimetype": "text/x-python",
   "name": "python",
   "nbconvert_exporter": "python",
   "pygments_lexer": "ipython3",
   "version": "3.12.3"
  }
 },
 "nbformat": 4,
 "nbformat_minor": 5
}
