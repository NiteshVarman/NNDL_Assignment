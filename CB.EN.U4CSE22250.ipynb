{
 "cells": [
  {
   "cell_type": "code",
   "execution_count": 1,
   "id": "dadd2960-d359-493b-97e3-11d65d2269a8",
   "metadata": {},
   "outputs": [
    {
     "name": "stdout",
     "output_type": "stream",
     "text": [
      "AND GATE:\n",
      "0 AND 0 = 0\n",
      "0 AND 1 = 0\n",
      "1 AND 0 = 0\n",
      "1 AND 1 = 1\n"
     ]
    }
   ],
   "source": [
    "def activation(val):\n",
    "    return 1 if val >= 0 else 0\n",
    "\n",
    "def and_gate(a, b):\n",
    "    w_a, w_b, bias_val = 1, 1, -1.5\n",
    "    result = w_a * a + w_b * b + bias_val\n",
    "    return activation(result)\n",
    "\n",
    "print(\"AND GATE:\")\n",
    "for i in [0, 1]:\n",
    "    for j in [0, 1]:\n",
    "        print(f\"{i} AND {j} = {and_gate(i, j)}\")"
   ]
  },
  {
   "cell_type": "code",
   "execution_count": 3,
   "id": "7a70d692-af37-4f77-9155-7c4ee1392d3b",
   "metadata": {},
   "outputs": [
    {
     "name": "stdout",
     "output_type": "stream",
     "text": [
      "\n",
      "OR GATE:\n",
      "0 OR 0 = 0\n",
      "0 OR 1 = 1\n",
      "1 OR 0 = 1\n",
      "1 OR 1 = 1\n"
     ]
    }
   ],
   "source": [
    "def or_gate(a, b):\n",
    "    w_a, w_b, bias_val = 1, 1, -0.5\n",
    "    result = w_a * a + w_b * b + bias_val\n",
    "    return activation(result)\n",
    "\n",
    "print(\"\\nOR GATE:\")\n",
    "for i in [0, 1]:\n",
    "    for j in [0, 1]:\n",
    "        print(f\"{i} OR {j} = {or_gate(i, j)}\")"
   ]
  },
  {
   "cell_type": "code",
   "execution_count": 5,
   "id": "fcb3414e-fee5-4d17-88d4-4fdca7db0b25",
   "metadata": {},
   "outputs": [
    {
     "name": "stdout",
     "output_type": "stream",
     "text": [
      "\n",
      "XOR GATE:\n",
      "0 XOR 0 = 0\n",
      "0 XOR 1 = 1\n",
      "1 XOR 0 = 1\n",
      "1 XOR 1 = 0\n"
     ]
    }
   ],
   "source": [
    "def or_hidden(x, y):\n",
    "    w1, w2, bias = 1, 1, -0.5\n",
    "    return activation(w1 * x + w2 * y + bias)\n",
    "\n",
    "def nand_hidden(x, y):\n",
    "    w1, w2, bias = -2, -2, 3\n",
    "    return activation(w1 * x + w2 * y + bias)\n",
    "\n",
    "def xor_gate(x, y):\n",
    "    h_or = or_hidden(x, y)\n",
    "    h_nand = nand_hidden(x, y)\n",
    "    w1, w2, bias = 1, 1, -1.5\n",
    "    output = w1 * h_or + w2 * h_nand + bias\n",
    "    return activation(output)\n",
    "\n",
    "print(\"\\nXOR GATE:\")\n",
    "for i in [0, 1]:\n",
    "    for j in [0, 1]:\n",
    "        print(f\"{i} XOR {j} = {xor_gate(i, j)}\")"
   ]
  }
 ],
 "metadata": {
  "kernelspec": {
   "display_name": "Python 3 (ipykernel)",
   "language": "python",
   "name": "python3"
  },
  "language_info": {
   "codemirror_mode": {
    "name": "ipython",
    "version": 3
   },
   "file_extension": ".py",
   "mimetype": "text/x-python",
   "name": "python",
   "nbconvert_exporter": "python",
   "pygments_lexer": "ipython3",
   "version": "3.12.4"
  }
 },
 "nbformat": 4,
 "nbformat_minor": 5
}
