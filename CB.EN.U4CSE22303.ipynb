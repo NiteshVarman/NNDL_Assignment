{
 "cells": [
  {
   "cell_type": "code",
   "execution_count": 9,
   "id": "37381ac1",
   "metadata": {},
   "outputs": [
    {
     "name": "stdout",
     "output_type": "stream",
     "text": [
      "OR Gate:\n",
      "Input: (0, 0) => Output: 0\n",
      "Input: (0, 1) => Output: 1\n",
      "Input: (1, 0) => Output: 1\n",
      "Input: (1, 1) => Output: 1\n"
     ]
    }
   ],
   "source": [
    "def step_activation(x):\n",
    "    return 1 if x >= 0 else 0\n",
    "\n",
    "def perceptron_or(x1, x2):\n",
    "    w1, w2 = 1, 1\n",
    "    bias = -0.5\n",
    "    weighted_sum = x1 * w1 + x2 * w2 + bias\n",
    "    return step_activation(weighted_sum)\n",
    "\n",
    "print(\"OR Gate:\")\n",
    "for x1 in [0, 1]:\n",
    "    for x2 in [0, 1]:\n",
    "        output = perceptron_or(x1, x2)\n",
    "        print(f\"Input: ({x1}, {x2}) => Output: {output}\")\n",
    "\n"
   ]
  },
  {
   "cell_type": "code",
   "execution_count": 12,
   "id": "3ef1b230",
   "metadata": {},
   "outputs": [
    {
     "name": "stdout",
     "output_type": "stream",
     "text": [
      "Perceptron AND Gate Outputs:\n",
      "Input: (0, 0) => Output: 0\n",
      "Input: (0, 1) => Output: 0\n",
      "Input: (1, 0) => Output: 0\n",
      "Input: (1, 1) => Output: 1\n"
     ]
    }
   ],
   "source": [
    "def perceptron_and(x1, x2):\n",
    "    w1,w2 = 1, 1\n",
    "    bias = -1.5\n",
    "    weighted_sum = x1 * w1 + x2 * w2 + bias\n",
    "    return step_activation(weighted_sum)\n",
    "\n",
    "print(\"Perceptron AND Gate Outputs:\")\n",
    "for x1 in [0, 1]:   \n",
    "    for x2 in [0, 1]:\n",
    "        output = perceptron_and(x1, x2)\n",
    "        print(f\"Input: ({x1}, {x2}) => Output: {output}\")"
   ]
  },
  {
   "cell_type": "code",
   "execution_count": 13,
   "id": "952e8a79",
   "metadata": {},
   "outputs": [
    {
     "name": "stdout",
     "output_type": "stream",
     "text": [
      "\n",
      "XOR Gate:\n",
      "0 XOR 0 = 0\n",
      "0 XOR 1 = 1\n",
      "1 XOR 0 = 1\n",
      "1 XOR 1 = 0\n"
     ]
    }
   ],
   "source": [
    "def hidden_or(x1, x2):\n",
    "    w1, w2, bias = 1, 1, -0.5\n",
    "    y = w1 * x1 + w2 * x2 + bias\n",
    "    return step_activation(y)\n",
    "\n",
    "def hidden_nand(x1, x2):\n",
    "    w1, w2, bias = -2, -2, 3\n",
    "    y = w1 * x1 + w2 * x2 + bias\n",
    "    return step_activation(y)\n",
    "\n",
    "def perceptron_xor(x1, x2):\n",
    "    h1 = hidden_or(x1, x2)\n",
    "    h2 = hidden_nand(x1, x2)\n",
    "\n",
    "    w1, w2, bias = 1, 1, -1.5\n",
    "    y = w1 * h1 + w2 * h2 + bias\n",
    "    return step_activation(y)\n",
    "\n",
    "print(\"\\nXOR Gate:\")\n",
    "for x1 in [0, 1]:\n",
    "    for x2 in [0, 1]:\n",
    "        print(f\"{x1} XOR {x2} = {perceptron_xor(x1, x2)}\")"
   ]
  },
  {
   "cell_type": "code",
   "execution_count": null,
   "id": "976e462c",
   "metadata": {},
   "outputs": [],
   "source": []
  },
  {
   "cell_type": "code",
   "execution_count": null,
   "id": "cd8ed2f8",
   "metadata": {},
   "outputs": [],
   "source": []
  }
 ],
 "metadata": {
  "kernelspec": {
   "display_name": "Python 3",
   "language": "python",
   "name": "python3"
  },
  "language_info": {
   "codemirror_mode": {
    "name": "ipython",
    "version": 3
   },
   "file_extension": ".py",
   "mimetype": "text/x-python",
   "name": "python",
   "nbconvert_exporter": "python",
   "pygments_lexer": "ipython3",
   "version": "3.11.2"
  }
 },
 "nbformat": 4,
 "nbformat_minor": 5
}
