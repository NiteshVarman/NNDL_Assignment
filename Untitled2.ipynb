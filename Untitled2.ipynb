{
  "nbformat": 4,
  "nbformat_minor": 0,
  "metadata": {
    "colab": {
      "provenance": []
    },
    "kernelspec": {
      "name": "python3",
      "display_name": "Python 3"
    },
    "language_info": {
      "name": "python"
    }
  },
  "cells": [
    {
      "cell_type": "code",
      "execution_count": 1,
      "metadata": {
        "colab": {
          "base_uri": "https://localhost:8080/"
        },
        "id": "1GDYb5-FwmI1",
        "outputId": "4efe3630-e755-4c7e-860f-1c8fd9134306"
      },
      "outputs": [
        {
          "output_type": "stream",
          "name": "stdout",
          "text": [
            "Logic Gate Outputs:\n",
            "\n",
            "AND(0, 0) = 0\n",
            "OR(0, 0) = 0\n",
            "NAND(0, 0) = 1\n",
            "XOR(0, 0) = 0\n",
            "AND(0, 1) = 0\n",
            "OR(0, 1) = 1\n",
            "NAND(0, 1) = 1\n",
            "XOR(0, 1) = 1\n",
            "AND(1, 0) = 0\n",
            "OR(1, 0) = 1\n",
            "NAND(1, 0) = 1\n",
            "XOR(1, 0) = 1\n",
            "AND(1, 1) = 1\n",
            "OR(1, 1) = 1\n",
            "NAND(1, 1) = 0\n",
            "XOR(1, 1) = 0\n",
            "\n",
            "NOT(0) = 1\n",
            "NOT(1) = 0\n"
          ]
        }
      ],
      "source": [
        "# Simple Step Function\n",
        "def step(x):\n",
        "    if x >= 0:\n",
        "        return 1\n",
        "    else:\n",
        "        return 0\n",
        "\n",
        "# AND Gate using Perceptron\n",
        "def and_gate(x1, x2):\n",
        "    w1, w2 = 1, 1\n",
        "    b = -1.5\n",
        "    total = x1*w1 + x2*w2 + b\n",
        "    return step(total)\n",
        "\n",
        "# OR Gate using Perceptron\n",
        "def or_gate(x1, x2):\n",
        "    w1, w2 = 1, 1\n",
        "    b = -0.5\n",
        "    total = x1*w1 + x2*w2 + b\n",
        "    return step(total)\n",
        "\n",
        "# NAND Gate using Perceptron\n",
        "def nand_gate(x1, x2):\n",
        "    w1, w2 = -2, -2\n",
        "    b = 3\n",
        "    total = x1*w1 + x2*w2 + b\n",
        "    return step(total)\n",
        "\n",
        "# NOT Gate (only one input)\n",
        "def not_gate(x):\n",
        "    w = -1\n",
        "    b = 0.5\n",
        "    total = x*w + b\n",
        "    return step(total)\n",
        "\n",
        "# XOR Gate using combination of other gates\n",
        "def xor_gate(x1, x2):\n",
        "    o1 = or_gate(x1, x2)\n",
        "    o2 = nand_gate(x1, x2)\n",
        "    # Now pass both outputs to AND\n",
        "    w1, w2 = 1, 1\n",
        "    b = -1.5\n",
        "    total = o1*w1 + o2*w2 + b\n",
        "    return step(total)\n",
        "\n",
        "# Print outputs\n",
        "print(\"Logic Gate Outputs:\\n\")\n",
        "\n",
        "for x1 in [0, 1]:\n",
        "    for x2 in [0, 1]:\n",
        "        print(f\"AND({x1}, {x2}) = {and_gate(x1, x2)}\")\n",
        "        print(f\"OR({x1}, {x2}) = {or_gate(x1, x2)}\")\n",
        "        print(f\"NAND({x1}, {x2}) = {nand_gate(x1, x2)}\")\n",
        "        print(f\"XOR({x1}, {x2}) = {xor_gate(x1, x2)}\")\n",
        "\n",
        "print()\n",
        "for x in [0, 1]:\n",
        "    print(f\"NOT({x}) = {not_gate(x)}\")\n"
      ]
    }
  ]
}